{
  "cells": [
    {
      "cell_type": "markdown",
      "metadata": {
        "id": "view-in-github",
        "colab_type": "text"
      },
      "source": [
        "<a href=\"https://colab.research.google.com/github/JPAfons0/pra3024/blob/main/bdp_w4.ipynb\" target=\"_parent\"><img src=\"https://colab.research.google.com/assets/colab-badge.svg\" alt=\"Open In Colab\"/></a>"
      ]
    },
    {
      "cell_type": "markdown",
      "metadata": {
        "id": "TkdruF2bYl5j"
      },
      "source": [
        "# <font color='deepskyblue'>Cosmology MCMC notebook </font>"
      ]
    },
    {
      "cell_type": "markdown",
      "metadata": {
        "id": "t0SazaVif4pl"
      },
      "source": [
        "## <font color='deepskyblue'>Preliminaries</font>"
      ]
    },
    {
      "cell_type": "code",
      "execution_count": 4,
      "metadata": {
        "colab": {
          "base_uri": "https://localhost:8080/",
          "height": 507
        },
        "id": "y6hcXmMbhbMA",
        "outputId": "8fae657a-88f4-4742-ea63-94b2e277cafb",
        "scrolled": true
      },
      "outputs": [
        {
          "output_type": "stream",
          "name": "stdout",
          "text": [
            "Collecting getdist\n",
            "  Downloading getdist-1.4.7.tar.gz (826 kB)\n",
            "\u001b[?25l     \u001b[90m━━━━━━━━━━━━━━━━━━━━━━━━━━━━━━━━━━━━━━━━\u001b[0m \u001b[32m0.0/826.1 kB\u001b[0m \u001b[31m?\u001b[0m eta \u001b[36m-:--:--\u001b[0m\r\u001b[2K     \u001b[91m━━━━━━━━━\u001b[0m\u001b[90m╺\u001b[0m\u001b[90m━━━━━━━━━━━━━━━━━━━━━━━━━━━━━━\u001b[0m \u001b[32m194.6/826.1 kB\u001b[0m \u001b[31m5.7 MB/s\u001b[0m eta \u001b[36m0:00:01\u001b[0m\r\u001b[2K     \u001b[91m━━━━━━━━━━━━━━━━━━━━━━━━━━━━━━━\u001b[0m\u001b[90m╺\u001b[0m\u001b[90m━━━━━━━━\u001b[0m \u001b[32m645.1/826.1 kB\u001b[0m \u001b[31m9.4 MB/s\u001b[0m eta \u001b[36m0:00:01\u001b[0m\r\u001b[2K     \u001b[90m━━━━━━━━━━━━━━━━━━━━━━━━━━━━━━━━━━━━━━━━\u001b[0m \u001b[32m826.1/826.1 kB\u001b[0m \u001b[31m8.6 MB/s\u001b[0m eta \u001b[36m0:00:00\u001b[0m\n",
            "\u001b[?25h  Installing build dependencies ... \u001b[?25l\u001b[?25hdone\n",
            "  Getting requirements to build wheel ... \u001b[?25l\u001b[?25hdone\n",
            "  Preparing metadata (pyproject.toml) ... \u001b[?25l\u001b[?25hdone\n",
            "Requirement already satisfied: numpy>=1.17.0 in /usr/local/lib/python3.10/dist-packages (from getdist) (1.25.2)\n",
            "Requirement already satisfied: matplotlib!=3.5.0,>=2.2.0 in /usr/local/lib/python3.10/dist-packages (from getdist) (3.7.1)\n",
            "Requirement already satisfied: scipy>=1.5 in /usr/local/lib/python3.10/dist-packages (from getdist) (1.11.4)\n",
            "Requirement already satisfied: PyYAML>=5.1 in /usr/local/lib/python3.10/dist-packages (from getdist) (6.0.1)\n",
            "Requirement already satisfied: packaging in /usr/local/lib/python3.10/dist-packages (from getdist) (23.2)\n",
            "Requirement already satisfied: contourpy>=1.0.1 in /usr/local/lib/python3.10/dist-packages (from matplotlib!=3.5.0,>=2.2.0->getdist) (1.2.0)\n",
            "Requirement already satisfied: cycler>=0.10 in /usr/local/lib/python3.10/dist-packages (from matplotlib!=3.5.0,>=2.2.0->getdist) (0.12.1)\n",
            "Requirement already satisfied: fonttools>=4.22.0 in /usr/local/lib/python3.10/dist-packages (from matplotlib!=3.5.0,>=2.2.0->getdist) (4.49.0)\n",
            "Requirement already satisfied: kiwisolver>=1.0.1 in /usr/local/lib/python3.10/dist-packages (from matplotlib!=3.5.0,>=2.2.0->getdist) (1.4.5)\n",
            "Requirement already satisfied: pillow>=6.2.0 in /usr/local/lib/python3.10/dist-packages (from matplotlib!=3.5.0,>=2.2.0->getdist) (9.4.0)\n",
            "Requirement already satisfied: pyparsing>=2.3.1 in /usr/local/lib/python3.10/dist-packages (from matplotlib!=3.5.0,>=2.2.0->getdist) (3.1.1)\n",
            "Requirement already satisfied: python-dateutil>=2.7 in /usr/local/lib/python3.10/dist-packages (from matplotlib!=3.5.0,>=2.2.0->getdist) (2.8.2)\n",
            "Requirement already satisfied: six>=1.5 in /usr/local/lib/python3.10/dist-packages (from python-dateutil>=2.7->matplotlib!=3.5.0,>=2.2.0->getdist) (1.16.0)\n",
            "Building wheels for collected packages: getdist\n",
            "  Building wheel for getdist (pyproject.toml) ... \u001b[?25l\u001b[?25hdone\n",
            "  Created wheel for getdist: filename=getdist-1.4.7-py3-none-any.whl size=810432 sha256=87e97126f59887cdfada2322ca934e1c85d74f512deb3093dd4cab0f43fcab04\n",
            "  Stored in directory: /root/.cache/pip/wheels/11/3e/8d/93c9494b4587d95165f805b376a4c7ed3ae670eb3cf7397389\n",
            "Successfully built getdist\n",
            "Installing collected packages: getdist\n",
            "Successfully installed getdist-1.4.7\n"
          ]
        },
        {
          "output_type": "execute_result",
          "data": {
            "text/plain": [
              "'%.3f'"
            ],
            "application/vnd.google.colaboratory.intrinsic+json": {
              "type": "string"
            }
          },
          "metadata": {},
          "execution_count": 4
        }
      ],
      "source": [
        "# Install required packages (if not available on server)\n",
        "try:\n",
        "  import getdist\n",
        "except:\n",
        "  !pip install getdist\n",
        "  import getdist\n",
        "\n",
        "# Load required packages\n",
        "import numpy as np\n",
        "import matplotlib.pyplot as plt\n",
        "%matplotlib inline\n",
        "import scipy.integrate as integrate\n",
        "\n",
        "# import pylab\n",
        "import getdist, IPython, time\n",
        "from numpy import random\n",
        "\n",
        "# from IPython.display import Image\n",
        "from getdist import plots, MCSamples, loadMCSamples\n",
        "\n",
        "# just for printing! calculations should be performed with machine precision\n",
        "%precision 3"
      ]
    },
    {
      "cell_type": "markdown",
      "metadata": {
        "id": "ayxOF90lVqKY"
      },
      "source": [
        "\n",
        "<font color='tomato'>\n",
        "(NB: The equations you'll directly need to build your code are those $\\boxed{\\text{with a box around}}$)\n",
        "</font>\n",
        "\n",
        "## <font color='deepskyblue'>The $\\Lambda$CDM Model</font>\n",
        "\n",
        "The Lambda-Cold-Dark-Matter ($\\Lambda$CDM) Model is our concordance cosmological model. It postulates a Universe that behaves according to **General Relativity**, filled with **baryons** (protons, neutrons - the stuff we and stars are made of!), **Cold Dark Matter (CDM)** and a **Cosmological Constant** $\\Lambda$.\n",
        "\n",
        "The expansion of the Universe is best described in terms of the **scale factor** $a$ (the \"radius\" of the Universe, conventionally set to 1 today) and the **Hubble rate** $H$. While photons (light rays) travel in the expanding universe they get redshifted, and this redshift is directly related to the size of the Universe when the photon was emitted compared to today:\n",
        "\n",
        "$$ \\frac{\\lambda_{\\rm obs}}{\\lambda_{\\rm em}} \\equiv 1 + z_{\\rm em} = \\frac{1}{a_{\\rm em}}$$\n",
        "\n",
        "\n",
        "In the $\\Lambda$CDM model (and at late enough times), this additionally simplifies to\n",
        "\n",
        "$$\n",
        "\\begin{gathered}\n",
        "\\boxed{\n",
        "H^2 = H_0^2\\left[\\Omega_\\Lambda + \\Omega_m (1+z)^3 + \\Omega_k (1+z)^2\\right]\n",
        "}\n",
        "\\\\\n",
        "\\boxed{\n",
        "\\Omega_m + \\Omega_\\Lambda + \\Omega_k = 1\n",
        "}\n",
        "\\end{gathered}\n",
        "\\tag{1}\n",
        "$$\n",
        "\n",
        "$H_0$ is the value of the Hubble rate *today*, and the parameters $\\Omega_m$, $\\Omega_\\Lambda$ and $\\Omega_k$ are dimensionless quantities indicating how much of the present expansion of the Universe is due to (non-relativistic) matter, cosmological constant $\\Lambda$, and spatial curvature $k$. Note that the three $\\Omega$'s are *not independent* (their sum is 1) and that we grouped together the contribution of baryons and CDM,\n",
        "\n",
        "$$\n",
        "\\Omega_m = \\Omega_{\\rm CDM} + \\Omega_{\\rm b}\n",
        "$$\n",
        "\n",
        "and that we have evidence that independent evidence that $\\Omega_b \\approx 5$\\%. NB: only $\\Omega_m \\geq 0$ makes physical sense, while in principle both $\\Omega_\\Lambda$ and $\\Omega_k$ can be negative.\n",
        "\n",
        "The present Hubble rate is conventionally parametrised in terms of the dimensionless $h$:\n",
        "\n",
        "$$\n",
        "\\boxed{\n",
        "  H_0 \\equiv 100\\,h\\,\\frac{\\rm km}{\\rm s\\,Mpc}\n",
        "}\n",
        "\\tag{2}\n",
        "$$\n",
        "\n",
        "where Mpc = Megaparsec and [parsec](https://en.wikipedia.org/wiki/Parsec) equals to about $3.26$ light years or $3.086 \\cdot 10^{16}$ m.\n",
        "\n",
        "In essence, these equations give us the relation between *what exists in the Universe* and *how the Universe expanded*. Measure one, I can tell you the other. This is precisely what we aim to do!\n",
        "\n",
        "Time to define the function $H(z)$. Don't forget to include the useful parameters as arguments of the function, and to define `parsec`."
      ]
    },
    {
      "cell_type": "code",
      "execution_count": 5,
      "metadata": {
        "id": "CFIYCrH2XccJ"
      },
      "outputs": [],
      "source": [
        "# Hubble rate: look at equations (1) and (2) for the definition!\n",
        "\n",
        "def Hubble(z, OmegaL, OmegaM, h_0):\n",
        "    OmegaK = 1 - OmegaL - OmegaM\n",
        "    H = h_0 * np.sqrt(OmegaL + OmegaM * (1 + z) * 3 + OmegaK * (1 + z) ** 2)\n",
        "    return H"
      ]
    },
    {
      "cell_type": "code",
      "source": [
        "%matplotlib inline\n",
        "# Testing the function\n",
        "OmegaL = 0.7\n",
        "OmegaM = 0.3\n",
        "h_0 = 0.7\n",
        "\n",
        "zs = np.arange(0, 2, 0.1)\n",
        "Hs = []\n",
        "for z in zs:\n",
        "    Hs += [Hubble(z,OmegaL, OmegaM, h_0)]\n",
        "\n",
        "plt.scatter(zs, Hs)\n",
        "plt.xlabel('z')\n",
        "plt.ylabel('H')\n",
        "plt.show()"
      ],
      "metadata": {
        "colab": {
          "base_uri": "https://localhost:8080/",
          "height": 449
        },
        "id": "3CMb0eWlhUkU",
        "outputId": "43f70273-32b6-43d6-a70f-1230b948d07b"
      },
      "execution_count": 6,
      "outputs": [
        {
          "output_type": "display_data",
          "data": {
            "text/plain": [
              "<Figure size 640x480 with 1 Axes>"
            ],
            "image/png": "[encoded data removed]"
          },
          "metadata": {}
        }
      ]
    },
    {
      "cell_type": "markdown",
      "metadata": {
        "id": "NNm-m0auXccK"
      },
      "source": [
        "## <font color='deepskyblue'>Supernovae Ia</font>\n",
        "\n",
        "In order to track the expansion of the Universe, we will look at Supernovae type Ia observations. SNIa are formed when a *white dwarf* accretes matter from a companion until it reaches a critical mass of about $1.44 M_\\odot$ (solar masses), after which it explodes **at always the same luminosity** $L_{\\rm SN}$. Therefore, the observed [magnitude](https://en.wikipedia.org/wiki/Magnitude_(astronomy)) is only a function of their [**luminosity distance**](https://en.wikipedia.org/wiki/Distance_measures_(cosmology)) from Earth, defined as the ratio of the intrinsic luminosity $L_{\\rm SNIa}$ and the measured *surface brightness* $\\Phi$ (energy per unit time per unit area)\n",
        "\n",
        "$$ d_L\\equiv \\frac{L_{\\rm SN}}{4\\pi \\Phi} $$\n",
        "\n",
        "We can express the luminosity distance in terms of the Hubble rate:\n",
        "\n",
        "$$\n",
        "\\boxed{\n",
        "d_L(z) = \\frac{c}{H_0}(1+z) \\times\n",
        "\\begin{cases}\n",
        "    \\cfrac{1}{\\sqrt{\\Omega_k}} \\,\\sinh\\left(\\sqrt{\\Omega_k}\\,D(z)\\right) & \\Omega_k > 0\n",
        "    \\\\[.5em]\n",
        "    D(z) & \\Omega_k = 0\n",
        "    \\\\[.5em]\n",
        "    \\cfrac{1}{\\sqrt{-\\Omega_k}} \\,\\sin\\left(\\sqrt{-\\Omega_k}\\,D(z)\\right) & \\Omega_k < 0\n",
        "\\end{cases}\n",
        "\\qquad\\qquad\n",
        "D(z) \\equiv H_0\\int_0^z \\frac{{\\rm d}Z}{H(Z)}\n",
        "}\n",
        "\\tag{3}\n",
        "$$\n",
        "\n",
        "where $c$ is the speed of light: $c \\simeq 2.998 \\cdot 10^{5}$ km/s.\n",
        "\n",
        "Clearly, there exists a relation between $d_L(z)$ and $H(z)$, so the luminosity distance is a useful measure of the Universe expansion history.\n",
        "In practice, however, the actual observable for [Supernovae Type Ia](https://en.wikipedia.org/wiki/Type_Ia_supernova) (or SNIa) is the [distance modulus](https://en.wikipedia.org/wiki/Distance_modulus) $\\mu$, defined as the difference between the *apparent magnitude* $m$ and the *absolute magnitude* $M$:\n",
        "\n",
        "$$\n",
        "\\boxed{\n",
        "\\mu(z) \\equiv m(z) - M \\equiv 5 \\log_{10} \\frac{d_L(z)}{10\\,\\text{pc}}\n",
        "}\n",
        "\\tag{4}\n",
        "$$\n",
        "\n",
        "We can create the function `dL(z, h, Omega_m, Omega_Lambda)`. You can also pass the function `Hubble` as an argument: `dL(z, Hubble, Omega_m, Omega_Lambda)`. Additionally, you can create $D(z)$ for your convenience.\n",
        "\n",
        "Note that you need to integrate the function $H(z)$, so write your own quick-and-easy numerical integrator, for example implementing the [trapezoidal rule](https://en.wikipedia.org/wiki/Trapezoidal_rule) or your favourite alternative, or [look up the pre-written methods](https://docs.scipy.org/doc/scipy/tutorial/integrate.html). Make sure it returns $d_L$ in parsecs and that it uses $H_0$ measured in units of 100 km/s/Mpc (which we called $h$)."
      ]
    },
    {
      "cell_type": "code",
      "execution_count": 7,
      "metadata": {
        "id": "QAwegy3UXccK"
      },
      "outputs": [],
      "source": [
        "c = 2.998e5 # <--- Choose your favourite units, but make sure you're consistent!\n",
        "import math as m\n",
        "# Integrate 1/H from x = 0 to x = z\n",
        "def D(z, OmegaM, OmegaL, h_0): # Yes, you can pass a function as argument!\n",
        "    # This is how you integrate with integrate.quad;\n",
        "    # (...)[0] gives the result of the integral; (...)[1] is the error estimate; see manual for details\n",
        "    return h_0 * integrate.quad(lambda x: 1/Hubble(z, OmegaL, OmegaM, h_0), 0, z)[0]\n",
        "\n",
        "def dL(z, OmegaL, OmegaM, h_0):\n",
        "    OmegaK = 1. - OmegaL - OmegaM\n",
        "    Dz = D(z, OmegaL, OmegaM, h_0)\n",
        "    if (OmegaK > 0):\n",
        "        dL1 = 1/np.sqrt(OmegaK) * np.sinh(np.sqrt(OmegaK) * Dz)\n",
        "    if (OmegaK == 0):\n",
        "        dL1 = Dz\n",
        "    if (OmegaK < 0):\n",
        "        dL1 = 1/np.sqrt(-OmegaK) * np.sin(np.sqrt(OmegaK) * Dz)\n",
        "    dL1 = 10. ** 4 * c / (h_0) * (1 + z) * dL1\n",
        "    return dL1\n",
        "def mu(dL):\n",
        "    mu1 = 5 * m.log10(dL / 10)\n",
        "    return mu1"
      ]
    },
    {
      "cell_type": "code",
      "source": [
        "%matplotlib inline\n",
        "# Testing function dL\n",
        "OmegaL = 0.7\n",
        "OmegaM = 0.3\n",
        "h = 0.7\n",
        "zs = np.arange(0, 1.4, 0.1)\n",
        "dLs = []\n",
        "for z in zs :\n",
        "    dLs += [dL(z, OmegaL, OmegaM, h)]\n",
        "\n",
        "plt.scatter(zs, dLs)\n",
        "plt.xlabel('z')\n",
        "plt.ylabel('dL(z)')\n",
        "plt.show()\n"
      ],
      "metadata": {
        "colab": {
          "base_uri": "https://localhost:8080/",
          "height": 465
        },
        "id": "Z-bTpE7Ki09s",
        "outputId": "17a2bc16-2f06-4eb3-fc5a-9789c7706ae4"
      },
      "execution_count": 8,
      "outputs": [
        {
          "output_type": "display_data",
          "data": {
            "text/plain": [
              "<Figure size 640x480 with 1 Axes>"
            ],
            "image/png": "[encoded data removed]"
          },
          "metadata": {}
        }
      ]
    },
    {
      "cell_type": "code",
      "source": [
        "%matplotlib inline\n",
        "# Testing function mu\n",
        "OmegaL = 0.7\n",
        "OmegaM = 0.3\n",
        "h = 0.7\n",
        "zs = np.arange(0.1, 1.4, 0.1)\n",
        "mus = []\n",
        "for z in zs :\n",
        "    mus += [mu(dL(z, OmegaL, OmegaM, h))]\n",
        "plt.scatter(zs, mus)\n",
        "plt.xlabel('z')\n",
        "plt.ylabel('mu(z)')\n",
        "plt.show()\n",
        "import numpy as np\n",
        "import matplotlib.pyplot as plt\n"
      ],
      "metadata": {
        "colab": {
          "base_uri": "https://localhost:8080/",
          "height": 451
        },
        "id": "9KO5FSLLmNs6",
        "outputId": "e5f313d3-40a8-4640-fc28-04db4802c8e9"
      },
      "execution_count": 9,
      "outputs": [
        {
          "output_type": "display_data",
          "data": {
            "text/plain": [
              "<Figure size 640x480 with 1 Axes>"
            ],
            "image/png": "[encoded data removed]"
          },
          "metadata": {}
        }
      ]
    },
    {
      "cell_type": "markdown",
      "metadata": {
        "id": "SLWjCnSSXccL"
      },
      "source": [
        "## <font color='deepskyblue'>The Union2.1 Compilation</font>\n",
        "\n",
        "Our source of data is from [Union2.1](http://supernova.lbl.gov/Union/). It is a collection of $580$ SNIa, each observation is comprised of redshift $z$\n",
        "Our goal today is to use SNIa measurements to constrain the parameters ($h, \\Omega_\\Lambda, \\Omega_m$).\n",
        "\n",
        "In essence, we can calculate for each redshift the theoretical value of $\\mu$ using this equation with the expression for $d_L(z)$ and our model of choice $H(z)$ -- note that we will need to perform a numerical integral! -- and compare this value with observations. A different model would amount to changing the theoretical value of $H(z)$.\n",
        "\n",
        "Let us start by importing and plotting the data:"
      ]
    },
    {
      "cell_type": "code",
      "execution_count": 10,
      "metadata": {
        "colab": {
          "base_uri": "https://localhost:8080/",
          "height": 34
        },
        "id": "sKb3QGqXTuJ5",
        "outputId": "0cbeb8e8-499c-41ba-c196-fefc54cee00c"
      },
      "outputs": [
        {
          "output_type": "display_data",
          "data": {
            "text/plain": [
              "array([      nan, 2.849e-02, 3.535e+01, 2.239e-01, 1.284e-01])"
            ]
          },
          "metadata": {}
        }
      ],
      "source": [
        "dataloc = \"http://supernova.lbl.gov/Union/figures/SCPUnion2.1_mu_vs_z.txt\"\n",
        "\n",
        "# Read in data as numpy array.\n",
        "# Format is [name, redshift, magnitude, magnitude error, and another number?]\n",
        "data = np.genfromtxt(dataloc)\n",
        "\n",
        "# Print the first line as an example. (Note that genfromtxt turns the names into 'Not A Number')\n",
        "display(data[0])"
      ]
    },
    {
      "cell_type": "code",
      "source": [
        "# Extract the redshifts (zs), distance modulus (dist_mod) and magnitude estimated errors (err_dist_mod)\n",
        "# Data are in columns, so we either slice it by columns: arr[:,n]...\n",
        "zs = data[:,1] # redshift\n",
        "\n",
        "# ...or transpose the array and then slice by row: arr_transposed[n]\n",
        "distance_modulus = data.T[2] # distance modulus\n",
        "error_distance_modulus = data.T[3] # errors on distance modulus = sigmas"
      ],
      "metadata": {
        "id": "1fGyQ8pe4KBW"
      },
      "execution_count": 11,
      "outputs": []
    },
    {
      "cell_type": "code",
      "source": [
        "# Let's look at the data, just for fun.\n",
        "# We can look both at the raw da I am GAYta (distance modulus) or calculate the luminosity distance\n",
        "# Note that Numpy allows us to manipulate whole arrays at once with something like:\n",
        "#     array_2 = some_function_of(array_1)\n",
        "\n",
        "# luminosity distance in Mpc\n",
        "luminosity_distance_pc = 1.E-5 * 10*(distance_modulus / 5.)"
      ],
      "metadata": {
        "id": "nBIWGSV-4Ork"
      },
      "execution_count": 12,
      "outputs": []
    },
    {
      "cell_type": "code",
      "source": [
        "# Recommendation: you might want to try your functions here, and check that for Omega_m = 0.3 and Omega_L = 0.7 you get a decent match to the data\n",
        "%matplotlib inline\n",
        "\n",
        "# Plot distance modulus versus redshift (original data)\n",
        "# Plot distance modulus versus redshift (original data)\n",
        "# take the first column of data and give me the list of indecies of sorted first column i have smoll pp\n",
        "sorted_data = data[data[:,1].argsort()]\n",
        "plt.xlabel('Redshift')\n",
        "plt.ylabel('Distance modulus')\n",
        "plt.errorbar(zs, distance_modulus, yerr=data[:, 3], fmt='o', markersize='2', color='blue', ecolor='red')"
      ],
      "metadata": {
        "colab": {
          "base_uri": "https://localhost:8080/",
          "height": 466
        },
        "id": "PV6eni6S4klT",
        "outputId": "8266014e-cdb8-40fb-9828-b7e9b553be23"
      },
      "execution_count": 13,
      "outputs": [
        {
          "output_type": "execute_result",
          "data": {
            "text/plain": [
              "<ErrorbarContainer object of 3 artists>"
            ]
          },
          "metadata": {},
          "execution_count": 13
        },
        {
          "output_type": "display_data",
          "data": {
            "text/plain": [
              "<Figure size 640x480 with 1 Axes>"
            ],
            "image/png": "[encoded data removed]"
          },
          "metadata": {}
        }
      ]
    },
    {
      "cell_type": "code",
      "source": [
        "## Shall we see how the data compares to our model, withour naive choice of parameters?\n",
        "\n",
        "plt.errorbar(zs, distance_modulus,\\\n",
        "             yerr=error_distance_modulus,\\\n",
        "             fmt='o',\\\n",
        "             color='black',\\\n",
        "             ecolor='red',\\\n",
        "             markersize=2)\n",
        "\n",
        "\n",
        "OmegaL = 0.7\n",
        "OmegaM = 0.3\n",
        "H0     = 1.0 #0.7\n",
        "\n",
        "modelzs = np.arange(0.05, 1.5, 0.05)\n",
        "modelmus = []\n",
        "for z in modelzs:\n",
        "    dL11 = dL(z, OmegaL, OmegaM, H0)\n",
        "    modelmus.append(mu(dL11))\n",
        "\n",
        "plt.plot(modelzs, modelmus, linewidth=4)\n",
        "plt.show()"
      ],
      "metadata": {
        "colab": {
          "base_uri": "https://localhost:8080/",
          "height": 624
        },
        "id": "8oC61Q8DtSml",
        "outputId": "2727ce0e-88f4-4b35-ccd9-59f3441c5a4c"
      },
      "execution_count": 20,
      "outputs": [
        {
          "output_type": "error",
          "ename": "TypeError",
          "evalue": "'numpy.float64' object is not callable",
          "traceback": [
            "\u001b[0;31m---------------------------------------------------------------------------\u001b[0m",
            "\u001b[0;31mTypeError\u001b[0m                                 Traceback (most recent call last)",
            "\u001b[0;32m<ipython-input-20-8c48d4a5a3fa>\u001b[0m in \u001b[0;36m<cell line: 17>\u001b[0;34m()\u001b[0m\n\u001b[1;32m     16\u001b[0m \u001b[0mmodelmus\u001b[0m \u001b[0;34m=\u001b[0m \u001b[0;34m[\u001b[0m\u001b[0;34m]\u001b[0m\u001b[0;34m\u001b[0m\u001b[0;34m\u001b[0m\u001b[0m\n\u001b[1;32m     17\u001b[0m \u001b[0;32mfor\u001b[0m \u001b[0mz\u001b[0m \u001b[0;32min\u001b[0m \u001b[0mmodelzs\u001b[0m\u001b[0;34m:\u001b[0m\u001b[0;34m\u001b[0m\u001b[0;34m\u001b[0m\u001b[0m\n\u001b[0;32m---> 18\u001b[0;31m     \u001b[0mdL11\u001b[0m \u001b[0;34m=\u001b[0m \u001b[0mdL\u001b[0m\u001b[0;34m(\u001b[0m\u001b[0mz\u001b[0m\u001b[0;34m,\u001b[0m \u001b[0mOmegaL\u001b[0m\u001b[0;34m,\u001b[0m \u001b[0mOmegaM\u001b[0m\u001b[0;34m,\u001b[0m \u001b[0mH0\u001b[0m\u001b[0;34m)\u001b[0m\u001b[0;34m\u001b[0m\u001b[0;34m\u001b[0m\u001b[0m\n\u001b[0m\u001b[1;32m     19\u001b[0m     \u001b[0mmodelmus\u001b[0m\u001b[0;34m.\u001b[0m\u001b[0mappend\u001b[0m\u001b[0;34m(\u001b[0m\u001b[0mmu\u001b[0m\u001b[0;34m(\u001b[0m\u001b[0mdL11\u001b[0m\u001b[0;34m)\u001b[0m\u001b[0;34m)\u001b[0m\u001b[0;34m\u001b[0m\u001b[0;34m\u001b[0m\u001b[0m\n\u001b[1;32m     20\u001b[0m \u001b[0;34m\u001b[0m\u001b[0m\n",
            "\u001b[0;31mTypeError\u001b[0m: 'numpy.float64' object is not callable"
          ]
        },
        {
          "output_type": "display_data",
          "data": {
            "text/plain": [
              "<Figure size 640x480 with 1 Axes>"
            ],
            "image/png": "[encoded data removed]"
          },
          "metadata": {}
        }
      ]
    },
    {
      "cell_type": "markdown",
      "metadata": {
        "id": "Hxy2SP9SXccN"
      },
      "source": [
        "## <font color='deepskyblue'>Bayes' Theorem: Likelihood, Prior, Posterior (and Evidence...)</font>\n",
        "\n",
        "The **conditional probability of A given that B is true** is denoted with $P(A|B)$ (read: *probability of A given B*).\n",
        "Did A happen? Then B has probability $P(B|A)$ of happening.\n",
        "\n",
        "[**Bayes' Theorem**](https://en.wikipedia.org/wiki/Bayes%27_theorem) is simply a reflection of the symmetry of the concept of joint probability:\n",
        "\n",
        "$$\n",
        "P(A|B)P(B) = P(B|A)P(A)\n",
        "$$\n",
        "\n",
        "In physics, our goal is often to determine how likely the values of some parameters $\\theta$ are, given how well they reproduce the data $D$.\n",
        "We write Bayes' theorem in the following equivalent form:\n",
        "\n",
        "$$\n",
        "P(\\theta | D) = \\frac{P(D|\\theta)P(\\theta)}{P(D)}\n",
        "$$\n",
        "\n",
        "The various terms conventionally take the names:\n",
        "\n",
        "$$\n",
        "\\begin{aligned}\n",
        "P(\\theta | D) & && \\text{Posterior}\n",
        "\\\\\n",
        "P(D | \\theta)& && \\text{Likelihood}\n",
        "\\\\\n",
        "P(\\theta) & && \\text{Prior}\n",
        "\\\\\n",
        "P(D) & && \\text{Evidence}\n",
        "\\end{aligned}\n",
        "$$\n",
        "\n",
        "### <font color='deepskyblue'>Prior</font>\n",
        "\n",
        "The *prior* quantifies our degree of prior belief in the model parameters. It can contain the results of previous experiments, or theoretical considerations (for instance, that certain parameters cannot be negative, etc.).\n",
        "\n",
        "We can have *strong priors* about something - the Sun still existing at night, see the comic below - or not.\n",
        "When we do *not* have compelling prior knowledge about a parameter, we generally use a *non-informative* prior probability distribution, most often related to the [uniform distribution](https://en.wikipedia.org/wiki/Continuous_uniform_distribution)\n",
        "\n",
        "$$\n",
        "\\begin{aligned}\n",
        "    \\text{Uniform} & && \\theta \\in \\text{Uniform}[\\theta_{\\rm min}, \\theta_{\\rm max}]\n",
        "    \\\\\n",
        "    \\text{Log Uniform} & && \\log\\theta \\in \\text{Uniform}[\\log\\theta_{\\rm min}, \\log\\theta_{\\rm max}]\n",
        "\\end{aligned}\n",
        "$$\n",
        "\n",
        "You may sometimes hear that \"the prior doesn't matter\". While this is not strictly true, it is however true that in many instances the *likelihood* depends more dramatically on the parameters and will have a dominating contribution to the posterior. You are more than welcome to try different priors for the model parameters and see if and how your results change.\n",
        "\n",
        "### <font color='deepskyblue'>Likelihood</font>\n",
        "\n",
        "The measure of how well our model reproduces the data is the **likelihood** $\\mathcal L$. For normal (=Gaussian), uncorrelated data $\\mu_i$ with errors $\\sigma_i$ ($i = \\{1,580\\}$), the likelihood is related to the famous [**chi-squared**](https://en.wikipedia.org/wiki/Chi-square_distribution) via\n",
        "\n",
        "$$\n",
        "P(D | \\theta) \\equiv \\mathcal L = \\exp\\left(-\\frac{\\chi^2}{2}\\right)\n",
        "\\qquad\n",
        "\\qquad\n",
        "\\boxed{\n",
        "\\chi^2 \\equiv \\sum_{i=1}^{580} \\frac{\\left(\\mu_i^{(\\rm theor)} - \\mu_i^{(\\rm obs)}\\right)^2}{\\sigma_i^2}\n",
        "}\n",
        "\\tag{5}\n",
        "$$\n",
        "\n",
        "A *high likelihood* corresponds to a *low chi squared*.\n",
        "\n",
        "In principle, we could attack the problem brute-force: create a grid of values for $h$, $\\Omega_m$, $\\Omega_\\Lambda$, calculate the likelihood for each combination, and create a profile for the likelihood.\n",
        "\n",
        "In practical cases, however, this is not only sub-optimal but sometimes **impossible**. Think of complicated models with 20+ free parameters (this is not unheard of, by the way). Even a very coarse grained grid of 100 values for each parameter would result in more than $10^{40}$ (!!!) different parameter combination to be tested. You can probably understand why this is undesirable.\n",
        "\n",
        "### <font color='deepskyblue'>Evidence</font>\n",
        "\n",
        "This is the tricky bit. The evidence, which is \"*the probability of observing certain data*\", is not something that is easy to evaluate or interpret. This looks like a serious limitation to finding the:\n",
        "\n",
        "\n",
        "### <font color='deepskyblue'>Posterior</font>\n",
        "\n",
        "What does the data tell us about the model parameters? The answer is the *posterior probability distribution*, often (but not necessarily) expressed as (average $\\pm$ standard deviation)\n",
        "\n",
        "$$\n",
        "\\theta_i = \\bar\\theta_i \\pm \\sigma_i\n",
        "$$\n",
        "\n",
        "In other words, the posterior tells us how likely it is for the model parameters to have certain values, *given that we observe the data* $D$.\n",
        "\n",
        "*This is the final goal of our analysis!*\n",
        "\n",
        "<br>\n",
        "\n",
        "![title](http://1.bp.blogspot.com/-tTx4HDejSww/ULcTeK9_V_I/AAAAAAAAA8g/PCYOH-eXGbk/s1600/frequentists_vs_bayesians.png)\n",
        "![title](https://i.redd.it/5r0hwixt0m931.jpg)"
      ]
    },
    {
      "cell_type": "markdown",
      "metadata": {
        "id": "lymI_LaObhcU"
      },
      "source": [
        "## <font color='deepskyblue'>Markov-Chain Monte Carlo</font>\n",
        "\n",
        "Markov-Chain Monte Carlo techniques are a class of methods to sample a probability distribution $P(x)$ - in our case $P(\\theta | D)$ - provided that we can calculate a density $\\mathcal F(x)$ **that is proportional to it** - in our case $P(\\theta)P(D|\\theta)$ = likelihood $\\times$ prior. Among these, a very popular one is the [**Metropolis-Hastings**](https://en.wikipedia.org/wiki/Metropolis%E2%80%93Hastings_algorithm) algorithm, which is what we will use.\n",
        "\n",
        "Schematically, the algorithm works as follows:\n",
        "* Start with an $n$-tuple of parameters $\\theta_{\\rm old} = \\{\\theta_1, \\theta_2, \\dots\\}_{\\rm old}$ (in our case $\\theta = \\{h,\\Omega_m,\\Omega_\\Lambda\\}$) and calculate the $\\mathcal F_{\\rm old}$\n",
        "* Propose a new set of parameters $\\theta_{\\rm prop}$, calculate the new corresponding $\\mathcal F_{\\rm prop}$. How you propose the new parameters is not essential as long as the probability of going from one set of parameters to the next is the same as the inverse: $P(\\theta_a \\to \\theta_b) = P(\\theta_b \\to \\theta_a)$. For this, we normally take Gaussian displacements with some (relatively small) standard deviation.\n",
        "* Compare the new and old likelihoods-priors:\n",
        "    * If $\\mathcal F_{\\rm prop} > \\mathcal F_{\\rm old}$, accept the step: $\\theta_{\\rm new} = \\theta_{\\rm prop}$\n",
        "    * Otherwise, accept with probability $P_{\\rm accept} = \\mathcal F_{\\rm prop}/\\mathcal F_{\\rm old}$\n",
        "* If accepted, $\\theta_{\\rm new} = \\theta_{\\rm prop}$ and record the step; otherwise, $\\theta_{\\rm new} = \\theta_{\\rm old}$ (no re-recording)\n",
        "* Update $\\theta_{\\rm old} = \\theta_{\\rm new}$\n",
        "* Repeat\n",
        "\n",
        "The MC chain keeps going until the desired number of steps or, ideally, when a suitable convergence test, like for example the [Gelman-Rubin test](https://bookdown.org/rdpeng/advstatcomp/monitoring-convergence.html), is satisfied.\n",
        "Today we will just set a limit to the total number of steps, but please feel free to implement and test your favourite convergence test!\n",
        "\n",
        "Looking at equation (5), you can convince yourself that\n",
        "$$\n",
        "\\frac{\\mathcal L_a}{\\mathcal L_b} = \\exp\\left(\\frac{\\chi_b^2 - \\chi_a^2}{2}\\right)\n",
        "$$\n",
        "\n",
        "(This is useful because $\\chi^2$ can be large, so we want to avoid the likelihoods evaluating to `0.` -- computers don't like dividing by zero, unfortunately)\n",
        "\n",
        "\n",
        "* <font color=\"deepskyblue\"> Start with an $n$-tuple of parameters $\\theta_{\\rm old} = \\{\\theta_1, \\theta_2, \\dots\\}_{\\rm old}$ (in our case $\\theta = \\{h,\\Omega_m,\\Omega_\\Lambda\\}$) and the corresponding chi squared $\\chi_{\\rm old}^2$ (to be clear, for us this implies calculating a series of 580 integrals and comparing each with the observed values) </font>\n",
        "* <font color=\"deepskyblue\"> Propose new parameters $\\theta_{\\rm prop}$ and calculate the corresponding chi squared $\\chi_{\\rm prop}^2$</font>\n",
        "* <font color=\"deepskyblue\"> Draw a random number $r \\in [0,1]$</font>\n",
        "* <font color=\"deepskyblue\"> Accept the step if\n",
        "$$\n",
        "r < \\exp\\left(\\frac{\\chi_{\\rm old}^2 - \\chi_{\\rm prop}^2}{2}\\right) \\frac{P(\\theta)_{\\rm prop}}{P(\\theta)_{\\rm old}}\n",
        "$$</font>\n",
        "    * <font color=\"deepskyblue\"> If accepted, update $\\theta_{\\rm old} = \\theta_{\\rm prop}$</font>\n",
        "    * <font color=\"deepskyblue\">If you want, you can keep a record of the best fit (lowest $\\chi^2$), but this is not the specific purpose of MCMC! We are exploring the parameter space and sampling a _posterior distribution_, not just finding the best fit</font>\n",
        "* <font color=\"deepskyblue\"> Record the step - including **re-recording** if the step was not accepted! </font>\n",
        "* <font color=\"deepskyblue\"> Repeat</font>"
      ]
    },
    {
      "cell_type": "code",
      "execution_count": 14,
      "metadata": {
        "id": "xvF9UhsMXccR",
        "scrolled": true,
        "colab": {
          "base_uri": "https://localhost:8080/"
        },
        "outputId": "dc6270a6-9639-4ed4-9826-e2d0763212ac"
      },
      "outputs": [
        {
          "output_type": "stream",
          "name": "stdout",
          "text": [
            "Values: h = 0.1, OmegaM 0 0.0, OmegaL = 0.0\n",
            "Values: h = 0.1, OmegaM 0 0.0, OmegaL = 0.0\n",
            "Values: h = 0.1, OmegaM 0 0.0, OmegaL = 0.0\n",
            "Values: h = 0.1, OmegaM 0 0.0, OmegaL = 0.0\n",
            "Values: h = 0.1, OmegaM 0 0.0, OmegaL = 0.0\n",
            "Values: h = 0.1, OmegaM 0 0.0, OmegaL = 0.0\n",
            "Values: h = 0.1, OmegaM 0 0.0, OmegaL = 0.0\n",
            "Values: h = 0.1, OmegaM 0 0.0, OmegaL = 0.0\n",
            "Values: h = 0.1, OmegaM 0 0.0, OmegaL = 0.0\n",
            "Values: h = 0.1, OmegaM 0 0.0, OmegaL = 0.0\n",
            "Values: h = 0.1, OmegaM 0 0.0, OmegaL = 0.0\n",
            "Values: h = 0.1, OmegaM 0 0.0, OmegaL = 0.0\n",
            "Values: h = 0.1, OmegaM 0 0.0, OmegaL = 0.0\n",
            "Values: h = 0.1, OmegaM 0 0.0, OmegaL = 0.0\n",
            "Values: h = 0.1, OmegaM 0 0.0, OmegaL = 0.0\n",
            "Values: h = 0.1, OmegaM 0 0.0, OmegaL = 0.0\n",
            "Values: h = 0.1, OmegaM 0 0.0, OmegaL = 0.0\n",
            "Values: h = 0.1, OmegaM 0 0.0, OmegaL = 0.0\n",
            "Values: h = 0.1, OmegaM 0 0.0, OmegaL = 0.0\n",
            "Values: h = 0.1, OmegaM 0 0.0, OmegaL = 0.0\n",
            "Values: h = 0.1, OmegaM 0 0.0, OmegaL = 0.0\n",
            "Values: h = 0.1, OmegaM 0 0.0, OmegaL = 0.0\n",
            "Values: h = 0.1, OmegaM 0 0.0, OmegaL = 0.0\n",
            "Values: h = 0.1, OmegaM 0 0.0, OmegaL = 0.0\n",
            "Values: h = 0.1, OmegaM 0 0.0, OmegaL = 0.0\n",
            "Values: h = 0.1, OmegaM 0 0.0, OmegaL = 0.0\n",
            "Values: h = 0.1, OmegaM 0 0.0, OmegaL = 0.0\n",
            "Values: h = 0.1, OmegaM 0 0.0, OmegaL = 0.0\n",
            "Values: h = 0.1, OmegaM 0 0.0, OmegaL = 0.0\n",
            "Values: h = 0.1, OmegaM 0 0.0, OmegaL = 0.0\n",
            "Values: h = 0.1, OmegaM 0 0.0, OmegaL = 0.0\n",
            "Values: h = 0.1, OmegaM 0 0.0, OmegaL = 0.0\n",
            "Values: h = 0.1, OmegaM 0 0.0, OmegaL = 0.0\n",
            "Values: h = 0.1, OmegaM 0 0.0, OmegaL = 0.0\n",
            "Values: h = 0.1, OmegaM 0 0.0, OmegaL = 0.0\n",
            "Values: h = 0.1, OmegaM 0 0.0, OmegaL = 0.0\n",
            "Values: h = 0.1, OmegaM 0 0.0, OmegaL = 0.0\n",
            "Values: h = 0.1, OmegaM 0 0.0, OmegaL = 0.0\n",
            "Values: h = 0.1, OmegaM 0 0.0, OmegaL = 0.0\n",
            "Values: h = 0.1, OmegaM 0 0.0, OmegaL = 0.0\n",
            "Values: h = 0.1, OmegaM 0 0.0, OmegaL = 0.0\n",
            "Values: h = 0.1, OmegaM 0 0.0, OmegaL = 0.0\n",
            "Values: h = 0.1, OmegaM 0 0.0, OmegaL = 0.0\n",
            "Values: h = 0.1, OmegaM 0 0.0, OmegaL = 0.0\n",
            "Values: h = 0.1, OmegaM 0 0.0, OmegaL = 0.0\n",
            "Values: h = 0.1, OmegaM 0 0.0, OmegaL = 0.0\n",
            "Values: h = 0.1, OmegaM 0 0.0, OmegaL = 0.0\n",
            "Values: h = 0.1, OmegaM 0 0.0, OmegaL = 0.0\n",
            "Values: h = 0.1, OmegaM 0 0.0, OmegaL = 0.0\n",
            "Values: h = 0.1, OmegaM 0 0.0, OmegaL = 0.0\n",
            "Values: h = 0.1, OmegaM 0 0.0, OmegaL = 0.0\n",
            "Values: h = 0.1, OmegaM 0 0.0, OmegaL = 0.0\n",
            "Values: h = 0.1, OmegaM 0 0.0, OmegaL = 0.0\n",
            "Values: h = 0.1, OmegaM 0 0.0, OmegaL = 0.0\n",
            "Values: h = 0.1, OmegaM 0 0.0, OmegaL = 0.0\n",
            "Values: h = 0.1, OmegaM 0 0.0, OmegaL = 0.0\n",
            "Values: h = 0.1, OmegaM 0 0.0, OmegaL = 0.0\n",
            "Values: h = 0.1, OmegaM 0 0.0, OmegaL = 0.0\n",
            "Values: h = 0.1, OmegaM 0 0.0, OmegaL = 0.0\n",
            "Values: h = 0.1, OmegaM 0 0.0, OmegaL = 0.0\n",
            "Values: h = 0.1, OmegaM 0 0.0, OmegaL = 0.0\n",
            "Values: h = 0.1, OmegaM 0 0.0, OmegaL = 0.0\n",
            "Values: h = 0.1, OmegaM 0 0.0, OmegaL = 0.0\n",
            "Values: h = 0.1, OmegaM 0 0.0, OmegaL = 0.0\n",
            "Values: h = 0.1, OmegaM 0 0.0, OmegaL = 0.0\n",
            "Values: h = 0.1, OmegaM 0 0.0, OmegaL = 0.0\n",
            "Values: h = 0.1, OmegaM 0 0.0, OmegaL = 0.0\n",
            "Values: h = 0.1, OmegaM 0 0.0, OmegaL = 0.0\n",
            "Values: h = 0.1, OmegaM 0 0.0, OmegaL = 0.0\n",
            "Values: h = 0.1, OmegaM 0 0.0, OmegaL = 0.0\n",
            "Values: h = 0.1, OmegaM 0 0.0, OmegaL = 0.0\n",
            "Values: h = 0.1, OmegaM 0 0.0, OmegaL = 0.0\n",
            "Values: h = 0.1, OmegaM 0 0.0, OmegaL = 0.0\n",
            "Values: h = 0.1, OmegaM 0 0.0, OmegaL = 0.0\n",
            "Values: h = 0.1, OmegaM 0 0.0, OmegaL = 0.0\n",
            "Values: h = 0.1, OmegaM 0 0.0, OmegaL = 0.0\n",
            "Values: h = 0.1, OmegaM 0 0.0, OmegaL = 0.0\n",
            "Values: h = 0.1, OmegaM 0 0.0, OmegaL = 0.0\n",
            "Values: h = 0.1, OmegaM 0 0.0, OmegaL = 0.0\n",
            "Values: h = 0.1, OmegaM 0 0.0, OmegaL = 0.0\n",
            "Values: h = 0.1, OmegaM 0 0.0, OmegaL = 0.0\n",
            "Values: h = 0.1, OmegaM 0 0.0, OmegaL = 0.0\n",
            "Values: h = 0.1, OmegaM 0 0.0, OmegaL = 0.0\n",
            "Values: h = 0.1, OmegaM 0 0.0, OmegaL = 0.0\n",
            "Values: h = 0.1, OmegaM 0 0.0, OmegaL = 0.0\n",
            "Values: h = 0.1, OmegaM 0 0.0, OmegaL = 0.0\n",
            "Values: h = 0.1, OmegaM 0 0.0, OmegaL = 0.0\n",
            "Values: h = 0.1, OmegaM 0 0.0, OmegaL = 0.0\n",
            "Values: h = 0.1, OmegaM 0 0.0, OmegaL = 0.0\n",
            "Values: h = 0.1, OmegaM 0 0.0, OmegaL = 0.0\n",
            "Values: h = 0.1, OmegaM 0 0.0, OmegaL = 0.0\n",
            "Values: h = 0.1, OmegaM 0 0.0, OmegaL = 0.0\n",
            "Values: h = 0.1, OmegaM 0 0.0, OmegaL = 0.0\n",
            "Values: h = 0.1, OmegaM 0 0.0, OmegaL = 0.0\n",
            "Values: h = 0.1, OmegaM 0 0.0, OmegaL = 0.0\n",
            "Values: h = 0.1, OmegaM 0 0.0, OmegaL = 0.0\n",
            "Values: h = 0.1, OmegaM 0 0.0, OmegaL = 0.0\n",
            "Values: h = 0.1, OmegaM 0 0.0, OmegaL = 0.0\n",
            "Values: h = 0.1, OmegaM 0 0.0, OmegaL = 0.0\n",
            "Values: h = 0.1, OmegaM 0 0.0, OmegaL = 0.0\n",
            "Values: h = 0.1, OmegaM 0 0.0, OmegaL = 0.0\n",
            "Values: h = 0.1, OmegaM 0 0.0, OmegaL = 0.0\n",
            "Values: h = 0.1, OmegaM 0 0.0, OmegaL = 0.0\n",
            "Values: h = 0.1, OmegaM 0 0.0, OmegaL = 0.0\n",
            "Values: h = 0.1, OmegaM 0 0.0, OmegaL = 0.0\n",
            "Values: h = 0.1, OmegaM 0 0.0, OmegaL = 0.0\n",
            "Values: h = 0.1, OmegaM 0 0.0, OmegaL = 0.0\n",
            "Values: h = 0.1, OmegaM 0 0.0, OmegaL = 0.0\n",
            "Values: h = 0.1, OmegaM 0 0.0, OmegaL = 0.0\n",
            "Values: h = 0.1, OmegaM 0 0.0, OmegaL = 0.0\n",
            "Values: h = 0.1, OmegaM 0 0.0, OmegaL = 0.0\n",
            "Values: h = 0.1, OmegaM 0 0.0, OmegaL = 0.0\n",
            "Values: h = 0.1, OmegaM 0 0.0, OmegaL = 0.0\n",
            "Values: h = 0.1, OmegaM 0 0.0, OmegaL = 0.0\n",
            "Values: h = 0.1, OmegaM 0 0.0, OmegaL = 0.0\n",
            "Values: h = 0.1, OmegaM 0 0.0, OmegaL = 0.0\n",
            "Values: h = 0.1, OmegaM 0 0.0, OmegaL = 0.0\n",
            "Values: h = 0.1, OmegaM 0 0.0, OmegaL = 0.0\n",
            "Values: h = 0.1, OmegaM 0 0.0, OmegaL = 0.0\n",
            "Values: h = 0.1, OmegaM 0 0.0, OmegaL = 0.0\n",
            "Values: h = 0.1, OmegaM 0 0.0, OmegaL = 0.0\n",
            "Values: h = 0.1, OmegaM 0 0.0, OmegaL = 0.0\n",
            "Values: h = 0.1, OmegaM 0 0.0, OmegaL = 0.0\n",
            "Values: h = 0.1, OmegaM 0 0.0, OmegaL = 0.0\n",
            "Values: h = 0.1, OmegaM 0 0.0, OmegaL = 0.0\n",
            "Values: h = 0.1, OmegaM 0 0.0, OmegaL = 0.0\n",
            "Values: h = 0.1, OmegaM 0 0.0, OmegaL = 0.0\n",
            "Values: h = 0.1, OmegaM 0 0.0, OmegaL = 0.0\n",
            "Values: h = 0.1, OmegaM 0 0.0, OmegaL = 0.0\n",
            "Values: h = 0.1, OmegaM 0 0.0, OmegaL = 0.0\n",
            "Values: h = 0.1, OmegaM 0 0.0, OmegaL = 0.0\n",
            "Values: h = 0.1, OmegaM 0 0.0, OmegaL = 0.0\n",
            "Values: h = 0.1, OmegaM 0 0.0, OmegaL = 0.0\n",
            "Values: h = 0.1, OmegaM 0 0.0, OmegaL = 0.0\n",
            "Values: h = 0.1, OmegaM 0 0.0, OmegaL = 0.0\n",
            "Values: h = 0.1, OmegaM 0 0.0, OmegaL = 0.0\n",
            "Values: h = 0.1, OmegaM 0 0.0, OmegaL = 0.0\n",
            "Values: h = 0.1, OmegaM 0 0.0, OmegaL = 0.0\n",
            "Values: h = 0.1, OmegaM 0 0.0, OmegaL = 0.0\n",
            "Values: h = 0.1, OmegaM 0 0.0, OmegaL = 0.0\n",
            "Values: h = 0.1, OmegaM 0 0.0, OmegaL = 0.0\n",
            "Values: h = 0.1, OmegaM 0 0.0, OmegaL = 0.0\n",
            "Values: h = 0.1, OmegaM 0 0.0, OmegaL = 0.0\n",
            "Values: h = 0.1, OmegaM 0 0.0, OmegaL = 0.0\n",
            "Values: h = 0.1, OmegaM 0 0.0, OmegaL = 0.0\n",
            "Values: h = 0.1, OmegaM 0 0.0, OmegaL = 0.0\n",
            "Values: h = 0.1, OmegaM 0 0.0, OmegaL = 0.0\n",
            "Values: h = 0.1, OmegaM 0 0.0, OmegaL = 0.0\n",
            "Values: h = 0.1, OmegaM 0 0.0, OmegaL = 0.0\n",
            "Values: h = 0.1, OmegaM 0 0.0, OmegaL = 0.0\n",
            "Values: h = 0.1, OmegaM 0 0.0, OmegaL = 0.0\n",
            "Values: h = 0.1, OmegaM 0 0.0, OmegaL = 0.0\n",
            "Values: h = 0.1, OmegaM 0 0.0, OmegaL = 0.0\n",
            "Values: h = 0.1, OmegaM 0 0.0, OmegaL = 0.0\n",
            "Values: h = 0.1, OmegaM 0 0.0, OmegaL = 0.0\n",
            "Values: h = 0.1, OmegaM 0 0.0, OmegaL = 0.0\n",
            "Values: h = 0.1, OmegaM 0 0.0, OmegaL = 0.0\n",
            "Values: h = 0.1, OmegaM 0 0.0, OmegaL = 0.0\n",
            "Values: h = 0.1, OmegaM 0 0.0, OmegaL = 0.0\n",
            "Values: h = 0.1, OmegaM 0 0.0, OmegaL = 0.0\n",
            "Values: h = 0.1, OmegaM 0 0.0, OmegaL = 0.0\n",
            "Values: h = 0.1, OmegaM 0 0.0, OmegaL = 0.0\n",
            "Values: h = 0.1, OmegaM 0 0.0, OmegaL = 0.0\n",
            "Values: h = 0.1, OmegaM 0 0.0, OmegaL = 0.0\n",
            "Values: h = 0.1, OmegaM 0 0.0, OmegaL = 0.0\n",
            "Values: h = 0.1, OmegaM 0 0.0, OmegaL = 0.0\n",
            "Values: h = 0.1, OmegaM 0 0.0, OmegaL = 0.0\n",
            "Values: h = 0.1, OmegaM 0 0.0, OmegaL = 0.0\n",
            "Values: h = 0.1, OmegaM 0 0.0, OmegaL = 0.0\n",
            "Values: h = 0.1, OmegaM 0 0.0, OmegaL = 0.0\n",
            "Values: h = 0.1, OmegaM 0 0.0, OmegaL = 0.0\n",
            "Values: h = 0.1, OmegaM 0 0.0, OmegaL = 0.0\n",
            "Values: h = 0.1, OmegaM 0 0.0, OmegaL = 0.0\n",
            "Values: h = 0.1, OmegaM 0 0.0, OmegaL = 0.0\n",
            "Values: h = 0.1, OmegaM 0 0.0, OmegaL = 0.0\n",
            "Values: h = 0.1, OmegaM 0 0.0, OmegaL = 0.0\n",
            "Values: h = 0.1, OmegaM 0 0.0, OmegaL = 0.0\n",
            "Values: h = 0.1, OmegaM 0 0.0, OmegaL = 0.0\n",
            "Values: h = 0.1, OmegaM 0 0.0, OmegaL = 0.0\n",
            "Values: h = 0.1, OmegaM 0 0.0, OmegaL = 0.0\n",
            "Values: h = 0.1, OmegaM 0 0.0, OmegaL = 0.0\n",
            "Values: h = 0.1, OmegaM 0 0.0, OmegaL = 0.0\n",
            "Values: h = 0.1, OmegaM 0 0.0, OmegaL = 0.0\n",
            "Values: h = 0.1, OmegaM 0 0.0, OmegaL = 0.0\n",
            "Values: h = 0.1, OmegaM 0 0.0, OmegaL = 0.0\n",
            "Values: h = 0.1, OmegaM 0 0.0, OmegaL = 0.0\n",
            "Values: h = 0.1, OmegaM 0 0.0, OmegaL = 0.0\n",
            "Values: h = 0.1, OmegaM 0 0.0, OmegaL = 0.0\n",
            "Values: h = 0.1, OmegaM 0 0.0, OmegaL = 0.0\n",
            "Values: h = 0.1, OmegaM 0 0.0, OmegaL = 0.0\n",
            "Values: h = 0.1, OmegaM 0 0.0, OmegaL = 0.0\n",
            "Values: h = 0.1, OmegaM 0 0.0, OmegaL = 0.0\n",
            "Values: h = 0.1, OmegaM 0 0.0, OmegaL = 0.0\n",
            "Values: h = 0.1, OmegaM 0 0.0, OmegaL = 0.0\n",
            "Values: h = 0.1, OmegaM 0 0.0, OmegaL = 0.0\n",
            "Values: h = 0.1, OmegaM 0 0.0, OmegaL = 0.0\n",
            "Values: h = 0.1, OmegaM 0 0.0, OmegaL = 0.0\n",
            "Values: h = 0.1, OmegaM 0 0.0, OmegaL = 0.0\n",
            "Values: h = 0.1, OmegaM 0 0.0, OmegaL = 0.0\n",
            "Values: h = 0.1, OmegaM 0 0.0, OmegaL = 0.0\n",
            "Values: h = 0.1, OmegaM 0 0.0, OmegaL = 0.0\n",
            "Values: h = 0.1, OmegaM 0 0.0, OmegaL = 0.0\n",
            "Values: h = 0.1, OmegaM 0 0.0, OmegaL = 0.0\n",
            "Values: h = 0.1, OmegaM 0 0.0, OmegaL = 0.0\n",
            "Values: h = 0.1, OmegaM 0 0.0, OmegaL = 0.0\n",
            "Values: h = 0.1, OmegaM 0 0.0, OmegaL = 0.0\n",
            "Values: h = 0.1, OmegaM 0 0.0, OmegaL = 0.0\n",
            "Values: h = 0.1, OmegaM 0 0.0, OmegaL = 0.0\n",
            "Values: h = 0.1, OmegaM 0 0.0, OmegaL = 0.0\n",
            "Values: h = 0.1, OmegaM 0 0.0, OmegaL = 0.0\n",
            "Values: h = 0.1, OmegaM 0 0.0, OmegaL = 0.0\n",
            "Values: h = 0.1, OmegaM 0 0.0, OmegaL = 0.0\n",
            "Values: h = 0.1, OmegaM 0 0.0, OmegaL = 0.0\n",
            "Values: h = 0.1, OmegaM 0 0.0, OmegaL = 0.0\n",
            "Values: h = 0.1, OmegaM 0 0.0, OmegaL = 0.0\n",
            "Values: h = 0.1, OmegaM 0 0.0, OmegaL = 0.0\n",
            "Values: h = 0.1, OmegaM 0 0.0, OmegaL = 0.0\n",
            "Values: h = 0.1, OmegaM 0 0.0, OmegaL = 0.0\n",
            "Values: h = 0.1, OmegaM 0 0.0, OmegaL = 0.0\n",
            "Values: h = 0.1, OmegaM 0 0.0, OmegaL = 0.0\n",
            "Values: h = 0.1, OmegaM 0 0.0, OmegaL = 0.0\n",
            "Values: h = 0.1, OmegaM 0 0.0, OmegaL = 0.0\n",
            "Values: h = 0.1, OmegaM 0 0.0, OmegaL = 0.0\n",
            "Values: h = 0.1, OmegaM 0 0.0, OmegaL = 0.0\n",
            "Values: h = 0.1, OmegaM 0 0.0, OmegaL = 0.0\n",
            "Values: h = 0.1, OmegaM 0 0.0, OmegaL = 0.0\n",
            "Values: h = 0.1, OmegaM 0 0.0, OmegaL = 0.0\n",
            "Values: h = 0.1, OmegaM 0 0.0, OmegaL = 0.0\n",
            "Values: h = 0.1, OmegaM 0 0.0, OmegaL = 0.0\n",
            "Values: h = 0.1, OmegaM 0 0.0, OmegaL = 0.0\n",
            "Values: h = 0.1, OmegaM 0 0.0, OmegaL = 0.0\n",
            "Values: h = 0.1, OmegaM 0 0.0, OmegaL = 0.0\n",
            "Values: h = 0.1, OmegaM 0 0.0, OmegaL = 0.0\n",
            "Values: h = 0.1, OmegaM 0 0.0, OmegaL = 0.0\n",
            "Values: h = 0.1, OmegaM 0 0.0, OmegaL = 0.0\n",
            "Values: h = 0.1, OmegaM 0 0.0, OmegaL = 0.0\n",
            "Values: h = 0.1, OmegaM 0 0.0, OmegaL = 0.0\n",
            "Values: h = 0.1, OmegaM 0 0.0, OmegaL = 0.0\n",
            "Values: h = 0.1, OmegaM 0 0.0, OmegaL = 0.0\n",
            "Values: h = 0.1, OmegaM 0 0.0, OmegaL = 0.0\n",
            "Values: h = 0.1, OmegaM 0 0.0, OmegaL = 0.0\n",
            "Values: h = 0.1, OmegaM 0 0.0, OmegaL = 0.0\n",
            "Values: h = 0.1, OmegaM 0 0.0, OmegaL = 0.0\n",
            "Values: h = 0.1, OmegaM 0 0.0, OmegaL = 0.0\n",
            "Values: h = 0.1, OmegaM 0 0.0, OmegaL = 0.0\n",
            "Values: h = 0.1, OmegaM 0 0.0, OmegaL = 0.0\n",
            "Values: h = 0.1, OmegaM 0 0.0, OmegaL = 0.0\n",
            "Values: h = 0.1, OmegaM 0 0.0, OmegaL = 0.0\n",
            "Values: h = 0.1, OmegaM 0 0.0, OmegaL = 0.0\n",
            "Values: h = 0.1, OmegaM 0 0.0, OmegaL = 0.0\n",
            "Chi2 total = 298874.2301982755\n"
          ]
        }
      ],
      "source": [
        "# You don't actually need to write your data on a file (you could just store it in some np.array)\n",
        "# but it tends to be a good idea, so that you run a good, long MCMC once, and then you can do all the\n",
        "# analysis later on at any time, without having to produce the data again\n",
        "import numpy as np\n",
        "# Choose your favourite filename\n",
        "filename = \"MC_Chain_SNIa.txt\"\n",
        "file = open(filename, \"w\")\n",
        "\n",
        "# A few thousand *ACCEPTED* steps is a decent ballpark for the minimum length of your MCMC chain\n",
        "# NB: start with a few hundreds, see if everything works as expected, and then commit to a longer run (>= 5000 steps)\n",
        "N_steps = 250\n",
        "\n",
        "# Start from some very bad values, to show that the MCMC works anyway!\n",
        "# (making sure you don't divide by zero anywhere...)\n",
        "OmegaM = 0.\n",
        "OmegaL = 0.\n",
        "h = 0.1\n",
        "\n",
        "chi2_tbest = 9999\n",
        "chi2_tlist = []\n",
        "for i in range(N_steps):\n",
        "\n",
        "  OmegaM_new = OmegaM + np.random.normal(0, 0.1);\n",
        "  OmegaL_new = OmegaL + np.random.normal(0, 0.1);\n",
        "  h_new = h + np.random.normal(0, 0.1);\n",
        "  print(\"Values: h = {}, OmegaM 0 {}, OmegaL = {}\".format(h, OmegaM, OmegaL))\n",
        "\n",
        "chi2_total = 0\n",
        "for i in range(len(zs)):\n",
        "    z = zs[i]\n",
        "    mu_model = mu(dL(z, OmegaM, OmegaL, h))\n",
        "    chi2 = (mu_model - distance_modulus[i])**2 / error_distance_modulus[i]**2\n",
        "    if not np.isnan(chi2):\n",
        "        chi2_total += chi2\n",
        "\n",
        "print(\"Chi2 total = {}\".format(chi2_total))\n",
        "\n",
        "if(chi2_total < chi2_tbest) :\n",
        "  print(\"This is a better point!\")\n",
        "\n",
        "  OmegaM = OmegaM_new;\n",
        "  OmegaL = OmegaL_new;\n",
        "  h = h_new;\n",
        "  chi2_tbest = chi2_\n",
        "# This is the main component of the exercise:\n",
        "# PUT YOUR MCMC CODE HERE!\n",
        "\n",
        "file.close();"
      ]
    },
    {
      "cell_type": "markdown",
      "metadata": {
        "id": "qw52S4G0XccR"
      },
      "source": [
        "After completion of the programme, your MC chain will (*hopefully*) look something like this: (note the repeated entry!)\n",
        "\n",
        "`#Omega_m  Omega_L  h`\n",
        "\n",
        "`0.297     0.703    0.698`\n",
        "\n",
        "`0.285     0.715    0.701`\n",
        "\n",
        "`0.285     0.715    0.701`\n",
        "\n",
        "`0.288     0.712    0.699`\n",
        "\n",
        "`...`"
      ]
    },
    {
      "cell_type": "markdown",
      "metadata": {
        "id": "dB-wD3cLXccR"
      },
      "source": [
        "## <font color='deepskyblue'>Plotting: GetDist</font>\n",
        "\n",
        "We will do the plots with [`GetDist`](https://getdist.readthedocs.io/en/latest/plot_gallery.html).\n",
        "\n",
        "The plot gallery contains a lot of useful examples, you should be able to read them fairly easily and see which applies to your situation. Look for both (triangle) plots and for parameter estimation.\n",
        "\n",
        "Note that many `GetDist` functions require arguments of type `MCSamples`; make sure you convert your lists accordingly.\n",
        "\n",
        "<font color='deepskyblue'>\n",
        "Look at your results. Do you obtain $\\Omega_\\Lambda \\neq 0$? To a high degree of significance?\n",
        "\n",
        "If yes, then my dear friend, you have **DISCOVERED THE ACCELERATED EXPANSION OF THE UNIVERSE AND WON THE NOBEL PRIZE IN PHYSICS 2011!**\n",
        "</font>"
      ]
    },
    {
      "cell_type": "code",
      "execution_count": 2,
      "metadata": {
        "colab": {
          "base_uri": "https://localhost:8080/",
          "height": 211
        },
        "id": "4JIvURq9XccR",
        "outputId": "e31cb9f4-c2a4-4a34-af21-455f46b88e40"
      },
      "outputs": [
        {
          "output_type": "error",
          "ename": "NameError",
          "evalue": "name 'N_steps' is not defined",
          "traceback": [
            "\u001b[0;31m---------------------------------------------------------------------------\u001b[0m",
            "\u001b[0;31mNameError\u001b[0m                                 Traceback (most recent call last)",
            "\u001b[0;32m<ipython-input-2-41010d91c09e>\u001b[0m in \u001b[0;36m<cell line: 4>\u001b[0;34m()\u001b[0m\n\u001b[1;32m      2\u001b[0m \u001b[0;31m# These are just randomly generated values. YOU WILL HAVE TO USE THE RESULTS OF YOUR MCMC CHAIN!\u001b[0m\u001b[0;34m\u001b[0m\u001b[0;34m\u001b[0m\u001b[0m\n\u001b[1;32m      3\u001b[0m \u001b[0;31m# NB: when using your real data, consider removing some *burn-in* (look it up!)\u001b[0m\u001b[0;34m\u001b[0m\u001b[0;34m\u001b[0m\u001b[0m\n\u001b[0;32m----> 4\u001b[0;31m \u001b[0mh\u001b[0m\u001b[0;34m,\u001b[0m \u001b[0mOmegaM\u001b[0m\u001b[0;34m,\u001b[0m \u001b[0mOmegaL\u001b[0m \u001b[0;34m=\u001b[0m \u001b[0mnp\u001b[0m\u001b[0;34m.\u001b[0m\u001b[0mrandom\u001b[0m\u001b[0;34m.\u001b[0m\u001b[0mnormal\u001b[0m\u001b[0;34m(\u001b[0m\u001b[0;36m0.7\u001b[0m\u001b[0;34m,\u001b[0m \u001b[0;36m0.03\u001b[0m\u001b[0;34m,\u001b[0m \u001b[0mN_steps\u001b[0m\u001b[0;34m)\u001b[0m\u001b[0;34m,\u001b[0m\u001b[0;31m\\\u001b[0m\u001b[0;34m\u001b[0m\u001b[0;34m\u001b[0m\u001b[0m\n\u001b[0m\u001b[1;32m      5\u001b[0m                     \u001b[0mnp\u001b[0m\u001b[0;34m.\u001b[0m\u001b[0mrandom\u001b[0m\u001b[0;34m.\u001b[0m\u001b[0mnormal\u001b[0m\u001b[0;34m(\u001b[0m\u001b[0;36m0.3\u001b[0m\u001b[0;34m,\u001b[0m \u001b[0;36m0.1\u001b[0m\u001b[0;34m,\u001b[0m \u001b[0mN_steps\u001b[0m\u001b[0;34m)\u001b[0m\u001b[0;34m,\u001b[0m\u001b[0;31m \u001b[0m\u001b[0;31m\\\u001b[0m\u001b[0;34m\u001b[0m\u001b[0;34m\u001b[0m\u001b[0m\n\u001b[1;32m      6\u001b[0m                     \u001b[0mnp\u001b[0m\u001b[0;34m.\u001b[0m\u001b[0mrandom\u001b[0m\u001b[0;34m.\u001b[0m\u001b[0mnormal\u001b[0m\u001b[0;34m(\u001b[0m\u001b[0;36m0.7\u001b[0m\u001b[0;34m,\u001b[0m \u001b[0;36m0.1\u001b[0m\u001b[0;34m,\u001b[0m \u001b[0mN_steps\u001b[0m\u001b[0;34m)\u001b[0m\u001b[0;34m\u001b[0m\u001b[0;34m\u001b[0m\u001b[0m\n",
            "\u001b[0;31mNameError\u001b[0m: name 'N_steps' is not defined"
          ]
        }
      ],
      "source": [
        "import numpy as np\n",
        "# These are just randomly generated values. YOU WILL HAVE TO USE THE RESULTS OF YOUR MCMC CHAIN!\n",
        "# NB: when using your real data, consider removing some *burn-in* (look it up!)\n",
        "h, OmegaM, OmegaL = np.random.normal(0.7, 0.03, N_steps),\\\n",
        "                    np.random.normal(0.3, 0.1, N_steps), \\\n",
        "                    np.random.normal(0.7, 0.1, N_steps)\n",
        "\n",
        "# You can easily create new np.arrays that are functions of other np.arrays\n",
        "Omegak = 1. - OmegaM - OmegaL\n",
        "\n",
        "# Let's define variable names and labels\n",
        "my_labels = [r'h', r'\\Omega_m', r'\\Omega_\\Lambda', r'\\Omega_k']\n",
        "my_names = ['h', 'OmegaM', 'OmegaL', 'Omegak']\n",
        "my_dim = len(my_names) # The number of variables we're plotting\n",
        "\n",
        "# This creates a higher-dimensional array with all our data, shaped in the appropriate way...\n",
        "my_samples = np.transpose(np.reshape([h, OmegaM, OmegaL, Omegak], (my_dim, len(h))))\n",
        "\n",
        "# ... to create an \"MCSamples\" data type, which GetDist can use\n",
        "my_samples = MCSamples(samples = my_samples, labels = my_labels, names = my_names)\n",
        "\n",
        "# The usual 1-sigma confidence level. You can change to 2- or 3-sigma if you want\n",
        "conf_level = 0.6827\n",
        "\n",
        "# This prints a table with the 1D posteriors (confidence levels)\n",
        "for nam in my_names:\n",
        "    print(round(my_samples.confidence(nam,(1.-conf_level)/2.,upper=False),2), \\\n",
        "          \" < \", nam , \" < \", round(my_samples.confidence(nam,(1.-conf_level)/2.,upper=True),2),\\\n",
        "          \" at \" , int(100*conf_level),\"\\b% CL\")\n",
        "print(\"\\n\")\n",
        "\n",
        "#Triangle corner plot\n",
        "j = plots.getSubplotPlotter(subplot_size=3)\n",
        "j.settings.axes_labelsize = 22\n",
        "j.settings.axes_fontsize = 16\n",
        "j.triangle_plot(my_samples, filled = True, title_limit=1)"
      ]
    },
    {
      "cell_type": "markdown",
      "metadata": {
        "id": "OAer6k-yngup"
      },
      "source": [
        "## <font color='deepskyblue'>Further Improvements</font>\n",
        "\n",
        "There are many ways in which you can improve your code and/or your data visualisation. Some ideas, in random order:\n",
        "\n",
        "* Modify your priors and compare your results. For instance:\n",
        "  * Change to log-flat priors for $h$ and/or $\\Omega_m$, namely displace them in log-space instead of linear space:\n",
        "  $$\n",
        "  \\log(h_{\\rm new}) = \\log(h_{\\rm old}) + \\delta\n",
        "  $$\n",
        "  where $\\delta$ a random variable of mean 0\n",
        "  * Use priors from other cosmological probes, for example the [Planck 2018 results](https://arxiv.org/abs/1807.06209):\n",
        "  $$\n",
        "  \\Omega_m = 0.315 \\pm 0.007\\,,~\\dots\n",
        "  $$\n",
        "* Monitor acceptance ratio and $\\chi^2$ as a function of step count\n",
        "* Implement a Gelman-Rubin (or alternative) convergence test\n",
        "* Change colours and other properties of your triangle plot\n",
        "* Re-plot the data with your theoretical fits: you can try both your best fit, and some $1\\sigma$ \"error bars\"\n",
        "* Split your data in redshift bins and repeat the analysis for each bin individually.\n",
        "<br> _(What do you notice? Which redshift bins give us the most accurate detection of the cosmological parameters?)_"
      ]
    }
  ],
  "metadata": {
    "colab": {
      "collapsed_sections": [
        "Hxy2SP9SXccN"
      ],
      "provenance": [],
      "toc_visible": true,
      "include_colab_link": true
    },
    "kernelspec": {
      "display_name": "Python 3 (ipykernel)",
      "language": "python",
      "name": "python3"
    },
    "language_info": {
      "codemirror_mode": {
        "name": "ipython",
        "version": 3
      },
      "file_extension": ".py",
      "mimetype": "text/x-python",
      "name": "python",
      "nbconvert_exporter": "python",
      "pygments_lexer": "ipython3",
      "version": "3.10.0"
    }
  },
  "nbformat": 4,
  "nbformat_minor": 0
}